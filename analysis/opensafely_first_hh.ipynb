{
 "cells": [
  {
   "cell_type": "markdown",
   "metadata": {},
   "source": [
    "# Household analysis on OpenSAFELY dummy data\n",
    "\n",
    "Python code for pulling in the dummy data and running a household regression\n"
   ]
  },
  {
   "cell_type": "code",
   "execution_count": 1,
   "metadata": {},
   "outputs": [],
   "source": [
    "# This cell loads the libraries used by the script\n",
    "\n",
    "%matplotlib inline\n",
    "import numpy as np\n",
    "import scipy.stats as st\n",
    "import scipy.optimize as op\n",
    "import pandas as pd\n",
    "from numpy import linalg as LA\n",
    "import matplotlib.pyplot as plt\n",
    "from tqdm.notebook import tqdm\n",
    "import seaborn as sns"
   ]
  },
  {
   "cell_type": "markdown",
   "metadata": {},
   "source": [
    "# EDA\n",
    "\n",
    "The next set of cells does exploratory data analysis / plots - we should discuss how to pull this kind of thing out\n"
   ]
  },
  {
   "cell_type": "code",
   "execution_count": 3,
   "metadata": {},
   "outputs": [],
   "source": [
    "df = pd.read_csv('./hh_analysis_dataset_DRAFT.csv')"
   ]
  },
  {
   "cell_type": "code",
   "execution_count": 4,
   "metadata": {},
   "outputs": [
    {
     "name": "stdout",
     "output_type": "stream",
     "text": [
      "patient_id\n",
      "age\n",
      "hh_id\n",
      "hh_size\n",
      "case\n",
      "bmi_measured_date\n",
      "hba1c_percentage_date\n",
      "chronic_respiratory_disease_date\n",
      "chronic_respiratory_disease\n",
      "chronic_cardiac_disease_date\n",
      "chronic_cardiac_disease\n",
      "cancer_date\n",
      "cancer\n",
      "perm_immunodef_date\n",
      "perm_immunodef\n",
      "temp_immunodef_date\n",
      "temp_immunodef\n",
      "other_immuno\n",
      "chronic_liver_disease_date\n",
      "chronic_liver_disease\n",
      "other_neuro_date\n",
      "other_neuro\n",
      "stroke_date\n",
      "stroke\n",
      "dementia_date\n",
      "dementia\n",
      "esrf_date\n",
      "esrf\n",
      "hypertension_date\n",
      "hypertension\n",
      "ra_sle_psoriasis_date\n",
      "ra_sle_psoriasis\n",
      "insulin_date\n",
      "insulin\n",
      "statin_date\n",
      "statin\n",
      "was_ventilated_flag\n",
      "sex\n",
      "rural_urban\n",
      "region\n",
      "ethnicity_16\n",
      "gp_consult_count\n",
      "bmi\n",
      "hba1c_mmol_per_mol\n",
      "hba1c_percentage\n",
      "asthma_date\n",
      "asthmacat\n",
      "ace_inhibitors_date\n",
      "ace_inhibitors\n",
      "alpha_blockers_date\n",
      "alpha_blockers\n",
      "arbs_date\n",
      "arbs\n",
      "betablockers_date\n",
      "betablockers\n",
      "calcium_channel_blockers_date\n",
      "calcium_channel_blockers\n",
      "combination_bp_meds_date\n",
      "combination_bp_meds\n",
      "spironolactone_date\n",
      "spironolactone\n",
      "thiazide_diuretics_date\n",
      "thiazide_diuretics\n",
      "indexdate\n",
      "eth5\n",
      "eth16\n",
      "stp\n",
      "imd\n",
      "agegroup\n",
      "hh_total\n",
      "hh_total_cat\n",
      "male\n",
      "age66\n",
      "age1\n",
      "age2\n",
      "age3\n",
      "diabetes_date\n",
      "bmicat\n",
      "obese4cat\n",
      "bmicat_sa\n",
      "obese4cat_sa\n",
      "smoke\n",
      "smoke_nomiss\n",
      "bpcat\n",
      "bpcat_nomiss\n",
      "bphigh\n",
      "htdiag_or_highbp\n",
      "egfr\n",
      "egfr_cat\n",
      "egfr60\n",
      "hba1c_pct\n",
      "dm_type\n",
      "dm_type_exeter_os\n",
      "hba1ccat\n",
      "hba1c75\n",
      "diabcat\n",
      "asthma\n",
      "carehome\n",
      "case_date\n",
      "onsdeath_date\n",
      "cpnsdeath_date\n"
     ]
    }
   ],
   "source": [
    "for c in df.columns:\n",
    "    print(c)"
   ]
  },
  {
   "cell_type": "code",
   "execution_count": 5,
   "metadata": {},
   "outputs": [
    {
     "data": {
      "text/plain": [
       "<matplotlib.axes._subplots.AxesSubplot at 0x107d08510>"
      ]
     },
     "execution_count": 5,
     "metadata": {},
     "output_type": "execute_result"
    },
    {
     "data": {
      "image/png": "[encoded data removed]",
      "text/plain": [
       "<Figure size 432x288 with 1 Axes>"
      ]
     },
     "metadata": {
      "needs_background": "light"
     },
     "output_type": "display_data"
    }
   ],
   "source": [
    "# Visualise the age distribution in the samples\n",
    "\n",
    "sns.distplot(df.age1.values)"
   ]
  },
  {
   "cell_type": "code",
   "execution_count": 14,
   "metadata": {},
   "outputs": [
    {
     "data": {
      "text/plain": [
       "2726"
      ]
     },
     "execution_count": 14,
     "metadata": {},
     "output_type": "execute_result"
    }
   ],
   "source": [
    "len(df)"
   ]
  },
  {
   "cell_type": "code",
   "execution_count": 15,
   "metadata": {},
   "outputs": [
    {
     "data": {
      "text/plain": [
       "275326"
      ]
     },
     "execution_count": 15,
     "metadata": {},
     "output_type": "execute_result"
    }
   ],
   "source": [
    "df.size"
   ]
  },
  {
   "cell_type": "code",
   "execution_count": 16,
   "metadata": {},
   "outputs": [
    {
     "data": {
      "text/plain": [
       "101"
      ]
     },
     "execution_count": 16,
     "metadata": {},
     "output_type": "execute_result"
    }
   ],
   "source": [
    "len(df.columns)"
   ]
  },
  {
   "cell_type": "code",
   "execution_count": 17,
   "metadata": {},
   "outputs": [
    {
     "name": "stdout",
     "output_type": "stream",
     "text": [
      "782\n"
     ]
    }
   ],
   "source": [
    "hhnums = pd.unique(df.hh_id) # number of households is unique number of household ids\n",
    "nhh = len(hhnums) # calculate number of unique hh IDs\n",
    "print(nhh) # print number of households"
   ]
  },
  {
   "cell_type": "code",
   "execution_count": null,
   "metadata": {},
   "outputs": [],
   "source": []
  },
  {
   "cell_type": "code",
   "execution_count": 21,
   "metadata": {},
   "outputs": [
    {
     "name": "stdout",
     "output_type": "stream",
     "text": [
      "[2. 5. 2. 2. 5. 4. 7. 4. 8. 4. 6. 3. 8. 3. 2. 6. 3. 6. 1. 5. 5. 3. 4. 5.\n",
      " 2. 7. 7. 4. 6. 3. 7. 4. 2. 3. 2. 3. 3. 4. 3. 3. 4. 3. 4. 3. 1. 8. 4. 5.\n",
      " 3. 3. 5. 7. 4. 7. 4. 2. 3. 1. 3. 5. 3. 1. 7. 1. 3. 4. 3. 4. 5. 4. 3. 6.\n",
      " 7. 3. 2. 4. 3. 4. 5. 3. 3. 2. 8. 3. 3. 4. 7. 2. 4. 5. 9. 7. 4. 9. 4. 1.\n",
      " 4. 2. 4. 3. 3. 3. 2. 3. 5. 6. 1. 5. 4. 6. 7. 4. 3. 3. 3. 6. 3. 2. 7. 5.\n",
      " 7. 3. 2. 2. 4. 4. 5. 5. 2. 4. 5. 3. 6. 4. 5. 3. 3. 6. 6. 2. 7. 7. 6. 4.\n",
      " 2. 2. 5. 6. 5. 4. 4. 5. 2. 7. 5. 7. 4. 6. 7. 4. 4. 4. 3. 5. 3. 3. 4. 3.\n",
      " 4. 3. 2. 4. 2. 4. 2. 3. 5. 3. 5. 3. 3. 9. 2. 2. 4. 6. 2. 2. 2. 7. 2. 7.\n",
      " 7. 7. 4. 3. 4. 5. 6. 5. 4. 2. 5. 1. 5. 2. 9. 3. 4. 3. 2. 2. 4. 7. 3. 2.\n",
      " 5. 5. 3. 2. 7. 5. 4. 7. 2. 5. 3. 2. 2. 1. 6. 3. 3. 4. 2. 3. 7. 4. 3. 4.\n",
      " 5. 3. 4. 4. 4. 3. 3. 4. 4. 3. 6. 8. 5. 1. 3. 3. 3. 2. 3. 5. 3. 3. 2. 3.\n",
      " 3. 2. 3. 4. 3. 2. 3. 3. 4. 4. 3. 2. 5. 3. 3. 5. 3. 5. 7. 6. 5. 6. 5. 9.\n",
      " 3. 3. 5. 3. 2. 2. 3. 3. 1. 3. 3. 9. 3. 4. 2. 5. 2. 6. 5. 3. 3. 5. 3. 3.\n",
      " 3. 6. 4. 4. 3. 3. 2. 7. 5. 2. 4. 3. 4. 3. 4. 4. 2. 4. 3. 5. 4. 3. 3. 2.\n",
      " 6. 6. 3. 3. 5. 4. 5. 3. 2. 2. 3. 3. 4. 5. 5. 6. 4. 5. 2. 5. 4. 2. 5. 3.\n",
      " 4. 4. 2. 4. 3. 4. 5. 4. 5. 3. 7. 6. 2. 4. 3. 3. 2. 3. 3. 4. 3. 2. 6. 5.\n",
      " 3. 5. 4. 7. 2. 2. 3. 3. 3. 3. 3. 5. 2. 7. 3. 4. 5. 5. 3. 3. 4. 4. 2. 7.\n",
      " 2. 8. 3. 3. 5. 4. 3. 2. 4. 7. 1. 3. 3. 4. 3. 3. 2. 3. 4. 1. 5. 3. 2. 3.\n",
      " 2. 1. 4. 1. 8. 2. 7. 3. 2. 2. 9. 2. 2. 4. 2. 2. 3. 2. 3. 4. 3. 2. 5. 3.\n",
      " 7. 4. 3. 5. 5. 3. 3. 5. 2. 4. 4. 4. 2. 4. 1. 4. 6. 7. 3. 6. 5. 5. 2. 3.\n",
      " 5. 6. 2. 3. 7. 6. 5. 7. 2. 4. 6. 5. 2. 3. 6. 9. 1. 2. 4. 3. 3. 2. 5. 2.\n",
      " 2. 7. 2. 2. 2. 3. 3. 3. 5. 2. 3. 2. 4. 2. 5. 7. 2. 2. 2. 4. 3. 5. 2. 3.\n",
      " 2. 3. 2. 2. 2. 5. 4. 2. 3. 2. 3. 3. 4. 7. 2. 2. 2. 2. 5. 3. 5. 3. 4. 2.\n",
      " 2. 6. 4. 9. 4. 3. 3. 6. 2. 4. 2. 5. 2. 3. 2. 3. 6. 2. 4. 7. 3. 5. 2. 3.\n",
      " 3. 2. 3. 5. 3. 3. 1. 3. 5. 2. 3. 1. 3. 5. 1. 3. 2. 3. 5. 4. 5. 3. 2. 2.\n",
      " 2. 2. 3. 2. 2. 2. 3. 5. 1. 2. 5. 1. 3. 4. 3. 1. 2. 5. 2. 2. 2. 2. 6. 3.\n",
      " 3. 5. 2. 3. 2. 3. 4. 3. 3. 3. 3. 3. 3. 3. 2. 3. 1. 5. 2. 2. 3. 2. 2. 3.\n",
      " 2. 5. 2. 4. 4. 3. 2. 1. 3. 2. 2. 2. 2. 3. 2. 2. 3. 6. 2. 2. 5. 3. 2. 2.\n",
      " 1. 2. 2. 3. 2. 5. 2. 2. 3. 5. 1. 3. 3. 2. 3. 2. 2. 2. 2. 5. 2. 2. 2. 4.\n",
      " 4. 3. 4. 3. 3. 2. 2. 1. 1. 1. 2. 2. 4. 3. 2. 3. 3. 2. 2. 2. 2. 2. 3. 3.\n",
      " 2. 1. 1. 2. 5. 4. 2. 2. 2. 2. 3. 2. 3. 2. 2. 1. 3. 2. 3. 2. 3. 2. 2. 3.\n",
      " 1. 2. 3. 1. 3. 2. 3. 1. 1. 3. 1. 2. 2. 3. 2. 1. 2. 1. 2. 3. 1. 3. 1. 2.\n",
      " 2. 1. 1. 1. 3. 1. 3. 2. 1. 1. 2. 2. 1. 1.]\n"
     ]
    }
   ],
   "source": [
    "# Set up arrays for the size and number positive in each household\n",
    "\n",
    "hhsizes = np.zeros(nhh)\n",
    "hhpos = np.zeros(nhh)\n",
    "hhneg = np.zeros(nhh)\n",
    "hhmis = np.zeros(nhh)\n",
    "for i, num in enumerate(hhnums):\n",
    "    dfh = df[df.hh_id == num]\n",
    "    hhsizes[i] = len(dfh)\n",
    "    hhpos[i] = np.sum(dfh.case == 1)\n",
    "    hhneg[i] = np.sum(dfh.case == 0)\n",
    "    hhmis[i] = np.sum(pd.isna(dfh.case))\n",
    "print(hhsizes)\n"
   ]
  },
  {
   "cell_type": "code",
   "execution_count": 22,
   "metadata": {},
   "outputs": [
    {
     "name": "stdout",
     "output_type": "stream",
     "text": [
      "[0. 2. 2. 2. 1. 2. 1. 2. 0. 4. 1. 3. 1. 0. 1. 1. 0. 1. 1. 0. 1. 0. 3. 1.\n",
      " 2. 2. 0. 1. 1. 3. 2. 3. 2. 0. 2. 3. 2. 0. 0. 2. 1. 0. 0. 2. 1. 3. 1. 5.\n",
      " 1. 3. 0. 2. 0. 2. 1. 2. 2. 0. 0. 1. 3. 1. 3. 1. 3. 3. 3. 1. 0. 3. 3. 0.\n",
      " 1. 0. 0. 3. 3. 4. 0. 0. 1. 0. 2. 1. 3. 3. 0. 2. 0. 3. 2. 1. 3. 0. 4. 1.\n",
      " 1. 2. 1. 2. 1. 3. 2. 1. 4. 4. 0. 0. 2. 0. 2. 1. 1. 1. 2. 4. 1. 2. 3. 3.\n",
      " 3. 2. 2. 0. 0. 4. 1. 3. 0. 0. 5. 3. 1. 1. 1. 3. 3. 0. 0. 1. 3. 0. 2. 2.\n",
      " 1. 0. 1. 2. 3. 4. 4. 4. 0. 0. 0. 1. 2. 4. 1. 0. 4. 1. 2. 0. 3. 3. 1. 0.\n",
      " 1. 0. 1. 1. 2. 2. 0. 1. 4. 0. 5. 1. 3. 6. 1. 0. 4. 2. 2. 0. 0. 3. 0. 1.\n",
      " 0. 1. 4. 2. 0. 4. 0. 0. 1. 2. 1. 1. 5. 2. 2. 2. 1. 3. 0. 2. 0. 2. 2. 2.\n",
      " 1. 0. 3. 0. 4. 2. 1. 1. 2. 0. 2. 1. 2. 0. 0. 3. 2. 4. 0. 3. 3. 1. 1. 0.\n",
      " 1. 2. 2. 1. 2. 1. 3. 1. 1. 1. 0. 1. 1. 1. 1. 3. 3. 2. 3. 0. 2. 1. 0. 1.\n",
      " 1. 1. 3. 3. 1. 1. 2. 0. 2. 4. 1. 2. 2. 0. 1. 2. 3. 4. 1. 0. 5. 2. 4. 1.\n",
      " 2. 1. 4. 1. 1. 0. 3. 1. 0. 0. 2. 2. 1. 0. 2. 0. 1. 1. 0. 1. 3. 5. 1. 3.\n",
      " 1. 3. 0. 3. 1. 3. 2. 1. 4. 2. 4. 3. 0. 3. 1. 0. 0. 2. 3. 3. 0. 1. 2. 2.\n",
      " 2. 1. 1. 0. 1. 0. 1. 2. 1. 2. 3. 3. 4. 3. 2. 3. 0. 1. 2. 4. 4. 0. 4. 3.\n",
      " 0. 3. 2. 0. 1. 0. 4. 3. 1. 3. 2. 0. 0. 4. 1. 3. 0. 1. 0. 4. 0. 2. 1. 2.\n",
      " 3. 0. 4. 1. 2. 2. 0. 2. 3. 0. 1. 0. 2. 0. 3. 4. 1. 4. 0. 1. 2. 3. 2. 0.\n",
      " 2. 3. 3. 3. 3. 3. 0. 2. 2. 3. 0. 0. 0. 1. 0. 1. 2. 3. 2. 1. 0. 3. 2. 0.\n",
      " 0. 1. 1. 1. 0. 2. 1. 0. 2. 0. 1. 2. 0. 2. 1. 2. 3. 1. 1. 0. 3. 2. 3. 3.\n",
      " 2. 2. 1. 1. 1. 3. 0. 4. 0. 4. 1. 2. 1. 3. 0. 4. 2. 2. 0. 2. 3. 1. 2. 3.\n",
      " 5. 1. 2. 3. 1. 0. 5. 1. 1. 0. 0. 5. 2. 1. 0. 1. 1. 2. 3. 0. 3. 2. 2. 0.\n",
      " 2. 0. 0. 1. 1. 0. 0. 1. 1. 1. 2. 0. 1. 2. 1. 1. 1. 2. 2. 0. 1. 2. 0. 3.\n",
      " 2. 3. 0. 2. 2. 4. 4. 2. 0. 2. 0. 3. 1. 0. 1. 0. 2. 2. 0. 3. 2. 0. 1. 0.\n",
      " 2. 1. 1. 1. 0. 3. 1. 1. 0. 1. 1. 3. 2. 2. 2. 2. 1. 0. 1. 1. 2. 0. 2. 3.\n",
      " 0. 2. 3. 3. 3. 0. 0. 3. 4. 1. 0. 0. 3. 3. 1. 3. 2. 2. 1. 0. 2. 0. 1. 2.\n",
      " 0. 2. 2. 2. 0. 0. 3. 2. 0. 0. 4. 1. 3. 0. 3. 1. 1. 1. 0. 0. 1. 2. 3. 3.\n",
      " 0. 0. 2. 1. 2. 1. 4. 1. 0. 1. 0. 2. 0. 0. 2. 2. 1. 0. 0. 0. 3. 2. 0. 3.\n",
      " 1. 5. 2. 1. 2. 3. 2. 1. 0. 2. 1. 0. 2. 3. 2. 0. 3. 1. 0. 1. 1. 0. 2. 0.\n",
      " 1. 2. 2. 1. 0. 2. 2. 0. 2. 0. 1. 0. 2. 1. 3. 1. 1. 2. 2. 1. 0. 0. 1. 3.\n",
      " 1. 1. 2. 3. 2. 2. 2. 0. 0. 0. 1. 0. 1. 3. 0. 3. 3. 2. 2. 0. 1. 1. 2. 2.\n",
      " 0. 1. 0. 0. 0. 2. 0. 2. 0. 0. 3. 0. 2. 0. 2. 0. 1. 1. 1. 2. 2. 0. 0. 0.\n",
      " 1. 0. 2. 0. 2. 2. 1. 1. 0. 3. 0. 0. 0. 0. 1. 1. 0. 0. 0. 2. 1. 1. 1. 1.\n",
      " 0. 1. 1. 1. 1. 1. 3. 2. 0. 1. 1. 0. 0. 1.]\n"
     ]
    }
   ],
   "source": [
    "print(hhpos)"
   ]
  },
  {
   "cell_type": "code",
   "execution_count": 23,
   "metadata": {},
   "outputs": [
    {
     "data": {
      "text/plain": [
       "(array([ 50., 201., 222., 116.,  97.,  38.,  42.,   7.,   9.]),\n",
       " array([0.5, 1.5, 2.5, 3.5, 4.5, 5.5, 6.5, 7.5, 8.5, 9.5]),\n",
       " <a list of 9 Patch objects>)"
      ]
     },
     "execution_count": 23,
     "metadata": {},
     "output_type": "execute_result"
    },
    {
     "data": {
      "image/png": "[encoded data removed]",
      "text/plain": [
       "<Figure size 432x288 with 1 Axes>"
      ]
     },
     "metadata": {
      "needs_background": "light"
     },
     "output_type": "display_data"
    }
   ],
   "source": [
    "# Check the distribution of household sizes\n",
    "\n",
    "plt.hist(hhsizes,0.5+np.arange(np.min(hhsizes)-1,np.max(hhsizes)+1))"
   ]
  },
  {
   "cell_type": "code",
   "execution_count": 30,
   "metadata": {},
   "outputs": [
    {
     "data": {
      "image/png": "[encoded data removed]",
      "text/plain": [
       "<Figure size 432x288 with 1 Axes>"
      ]
     },
     "metadata": {
      "needs_background": "light"
     },
     "output_type": "display_data"
    },
    {
     "data": {
      "image/png": "[encoded data removed]",
      "text/plain": [
       "<Figure size 432x288 with 1 Axes>"
      ]
     },
     "metadata": {
      "needs_background": "light"
     },
     "output_type": "display_data"
    },
    {
     "data": {
      "image/png": "[encoded data removed]",
      "text/plain": [
       "<Figure size 432x288 with 1 Axes>"
      ]
     },
     "metadata": {
      "needs_background": "light"
     },
     "output_type": "display_data"
    },
    {
     "data": {
      "image/png": "[encoded data removed]",
      "text/plain": [
       "<Figure size 432x288 with 1 Axes>"
      ]
     },
     "metadata": {
      "needs_background": "light"
     },
     "output_type": "display_data"
    },
    {
     "data": {
      "image/png": "[encoded data removed]",
      "text/plain": [
       "<Figure size 432x288 with 1 Axes>"
      ]
     },
     "metadata": {
      "needs_background": "light"
     },
     "output_type": "display_data"
    },
    {
     "data": {
      "image/png": "[encoded data removed]",
      "text/plain": [
       "<Figure size 432x288 with 1 Axes>"
      ]
     },
     "metadata": {
      "needs_background": "light"
     },
     "output_type": "display_data"
    },
    {
     "data": {
      "image/png": "[encoded data removed]",
      "text/plain": [
       "<Figure size 432x288 with 1 Axes>"
      ]
     },
     "metadata": {
      "needs_background": "light"
     },
     "output_type": "display_data"
    },
    {
     "data": {
      "image/png": "[encoded data removed]",
      "text/plain": [
       "<Figure size 432x288 with 1 Axes>"
      ]
     },
     "metadata": {
      "needs_background": "light"
     },
     "output_type": "display_data"
    }
   ],
   "source": [
    "# Look at the distribution of cases in households by size\n",
    "\n",
    "for nhsize in range(1, int(np.max(hhsizes))):\n",
    "    jj = np.where(hhsizes==nhsize)[0]\n",
    "    plt.figure()\n",
    "    plt.hist(hhpos[jj],np.arange(-0.5,nhsize+1.5,1.))\n",
    "    plt.xticks(np.arange(0,nhsize+1,1))"
   ]
  },
  {
   "cell_type": "markdown",
   "metadata": {},
   "source": [
    "# Data pre-processing\n",
    "\n",
    "There are two major outputs for each household: a vector y of outcomes and a design matrix X. These are stored in arrays of length equal to the number of households Y and XX respectively.\n"
   ]
  },
  {
   "cell_type": "code",
   "execution_count": 31,
   "metadata": {},
   "outputs": [],
   "source": [
    "# This is the number of age classes; here we will follow Roz's interests and consider two young ages: 0-9, and 10-18\n",
    "\n",
    "nages = 2"
   ]
  },
  {
   "cell_type": "code",
   "execution_count": 78,
   "metadata": {},
   "outputs": [],
   "source": [
    "Y = [] # a list to store outcomes\n",
    "XX = [] # a list of matrices, to store design matrices\n",
    "for i, num in enumerate(hhnums):\n",
    "    dfh = df[df.hh_id == num] # select a set of rows corresponding to each household ID \n",
    "    #if num == 1432: # uncomment if you want to see an example\n",
    "    #    print(dfh)\n",
    "        \n",
    "    mya = dfh.age1.values # get ages of household members in a numpy nd array. yes Thomas?\n",
    "    \n",
    "    m = len(mya)\n",
    "    myx = np.zeros((m,nages)) # this will hold indicators for the 2 age classes\n",
    "    myy = np.zeros(m) \n",
    "    \n",
    "    for j, a in enumerate(mya): # if age <=9 set indicator variable in column 1, if age 10-18 then in column 2\n",
    "        if (a<=9):\n",
    "            myx[j,:] = np.array([1, 0])\n",
    "        elif ((a>9) and (a<=18)):\n",
    "            myx[j,:] = np.array([0, 1])\n",
    "        if (dfh.case.values[j] == 1):\n",
    "            myy[j] = 1\n",
    "    Y.append(myy)  # add the age class variables of each household onto Y\n",
    "    XX.append(np.atleast_2d(myx)) # For each person in the household there has to be an array saying if they have an age indicator. Thomas?\n",
    "\n"
   ]
  },
  {
   "cell_type": "code",
   "execution_count": 39,
   "metadata": {},
   "outputs": [],
   "source": [
    "if len(Y) != nhh:\n",
    "    print(\"Error! Households lost or gained!\")"
   ]
  },
  {
   "cell_type": "code",
   "execution_count": 81,
   "metadata": {},
   "outputs": [
    {
     "name": "stdout",
     "output_type": "stream",
     "text": [
      "[[1. 0.]\n",
      " [0. 1.]\n",
      " [0. 0.]\n",
      " [0. 0.]\n",
      " [0. 0.]]\n"
     ]
    }
   ],
   "source": [
    "print(XX[19]) # take a look at the XX array for a household\n"
   ]
  },
  {
   "cell_type": "markdown",
   "metadata": {},
   "source": [
    "# Define functions\n",
    "\n",
    "We need two functions:\n",
    "\n",
    "* phi is the Laplace transform of the distribution of heterogeneity in transmissibility\n",
    "* mynll is the negative log likelihood function for the model\n",
    "\n",
    "Note that mynll here does not include a 'dilution' effect with number of household occupants (often called the 'Cauchemez model') and there are many other refinements we might like to consider.\n"
   ]
  },
  {
   "cell_type": "code",
   "execution_count": 84,
   "metadata": {},
   "outputs": [],
   "source": [
    "def phi(s, logtheta=0.0):\n",
    "    theta = np.exp(logtheta)\n",
    "    return ((1.0 + theta*s)**(-1.0/theta))"
   ]
  },
  {
   "cell_type": "code",
   "execution_count": 85,
   "metadata": {},
   "outputs": [],
   "source": [
    "def mynll(x):\n",
    "    \n",
    "    try: # Ideally catch the linear algebra fail directly\n",
    "        llaL = x[0]\n",
    "        llaG = x[1]\n",
    "        logtheta = x[2]\n",
    "        alpha = x[3:(3+nages)]\n",
    "        beta = x[(3+nages):(3+2*nages)]\n",
    "        gamma = x[(3+2*nages):]\n",
    "\n",
    "        nlv = np.zeros(len(hhnums)) # Vector of negative log likelihoods\n",
    "        for i in range(0,len(hhnums)):\n",
    "            y = Y[i]\n",
    "            X = XX[i]\n",
    "            if np.all(y==0.0):\n",
    "                nlv[i] = np.exp(llaG)*np.sum(np.exp(alpha@(X.T)))\n",
    "            else:\n",
    "                # Sort to go zeros then ones WLOG (could do in pre-processing)\n",
    "                ii = np.argsort(y)\n",
    "                y = y[ii]\n",
    "                X = X[ii,:]\n",
    "                q = sum(y>0)\n",
    "                r = 2**q\n",
    "                m = len(y)\n",
    "\n",
    "                # Quantities that don't vary through the sum\n",
    "                Bk = np.exp(-np.exp(llaG)*np.exp(alpha@(X.T)))\n",
    "                laM = np.exp(llaL)*np.outer(np.exp(beta@(X.T)),np.exp(gamma@(X.T)))\n",
    "\n",
    "                BB = np.zeros((r,r)) # To be the Ball matrix\n",
    "                for jd in range(0,r):\n",
    "                    for omd in range(0,jd+1):\n",
    "                        jstr = format(jd,'0' + str(m) + 'b')\n",
    "                        omstr = format(omd,'0' + str(m) + 'b')\n",
    "                        j = np.array([int(jstr[x]) for x in range(0,len(jstr))])\n",
    "                        om = np.array([int(omstr[x]) for x in range(0,len(omstr))])\n",
    "                        BB[jd,omd] = 1.0/np.prod((phi((1-j)@laM,logtheta)**om)*(Bk**(1-j)))\n",
    "                nlv[i] = -np.log(LA.solve(BB,np.ones(r))[-1])\n",
    "        nll = np.sum(nlv)\n",
    "        return nll\n",
    "    except:\n",
    "        nll = np.inf\n",
    "        return nll"
   ]
  },
  {
   "cell_type": "markdown",
   "metadata": {},
   "source": [
    "# Fit the model\n",
    "\n",
    "The code here uses the simplest kind of maximum likelihood estimation that one might try - it is likely that there may need to be some tuning of this process to the data and computational resources available, and also that in the current context it will fail because almost by definition the model is mis-specified compared to the data.\n"
   ]
  },
  {
   "cell_type": "code",
   "execution_count": 86,
   "metadata": {},
   "outputs": [
    {
     "data": {
      "text/plain": [
       "2327.834492518852"
      ]
     },
     "execution_count": 86,
     "metadata": {},
     "output_type": "execute_result"
    }
   ],
   "source": [
    "# Starting parameters - and check that the target function evaluates OK at them\n",
    "\n",
    "x0 = np.array([\n",
    "    0.0,\n",
    "    0.0,\n",
    "    0.0,\n",
    "    0.0, 0.0,\n",
    "    0.0, 0.0,\n",
    "    0.0, 0.0,\n",
    "])\n",
    "mynll(x0)"
   ]
  },
  {
   "cell_type": "code",
   "execution_count": 87,
   "metadata": {},
   "outputs": [],
   "source": [
    "def callbackF(x):\n",
    "    print('Evaluated at [{:.3f},{:.3f},{:.3f},{:.3f},{:.3f},{:.3f},{:.3f},{:.3f},{:.3f}]: {:.8f}'.format(\n",
    "        x[0],x[1],x[2],x[3],x[4],x[5],x[6],x[7],x[8],mynll(x)))"
   ]
  },
  {
   "cell_type": "code",
   "execution_count": null,
   "metadata": {},
   "outputs": [
    {
     "name": "stdout",
     "output_type": "stream",
     "text": [
      "Evaluated at [0.000,-0.001,0.000,0.000,0.000,0.000,0.000,0.000,0.000]: 2327.20986728\n",
      "Evaluated at [0.000,-0.001,0.000,0.000,0.000,0.000,0.000,0.000,0.000]: 2327.20986728\n",
      "Evaluated at [0.000,-0.001,0.000,0.000,0.000,0.000,0.000,0.000,0.000]: 2327.20986728\n",
      "Evaluated at [0.000,-0.001,0.000,0.000,0.000,0.000,0.000,0.000,0.000]: 2327.20986728\n",
      "Evaluated at [0.000,-0.001,0.000,0.000,0.000,0.000,0.000,0.000,0.000]: 2327.20986728\n",
      "Evaluated at [0.000,-0.001,0.000,0.000,0.000,0.000,0.000,0.000,0.000]: 2327.20986728\n",
      "Evaluated at [0.000,-0.001,0.000,0.000,0.000,0.000,0.000,0.000,0.000]: 2327.20986728\n",
      "Evaluated at [0.000,-0.001,0.000,0.000,0.000,0.000,0.000,0.000,0.000]: 2327.20986728\n",
      "Evaluated at [-0.000,-0.001,0.000,-0.000,0.000,0.000,0.000,0.000,0.000]: 2326.79714235\n",
      "Evaluated at [-0.000,-0.001,0.000,-0.000,0.000,0.000,0.000,0.000,0.000]: 2326.79714235\n",
      "Evaluated at [-0.000,-0.001,0.000,-0.000,0.000,0.000,0.000,0.000,0.000]: 2326.79714235\n",
      "Evaluated at [-0.000,-0.001,0.000,-0.000,0.000,0.000,0.000,0.000,0.000]: 2326.79714235\n",
      "Evaluated at [-0.000,-0.001,0.000,-0.000,0.000,0.000,0.000,-0.000,0.000]: 2326.35376001\n",
      "Evaluated at [-0.000,-0.001,0.000,-0.000,0.000,0.000,0.000,-0.000,0.000]: 2326.35376001\n",
      "Evaluated at [-0.000,-0.001,0.000,-0.000,0.000,0.000,0.000,-0.000,0.000]: 2326.35376001\n",
      "Evaluated at [-0.000,-0.002,0.000,0.000,0.000,0.000,0.000,0.000,0.001]: 2325.73174092\n",
      "Evaluated at [-0.000,-0.002,0.000,0.000,0.000,0.000,0.000,0.000,0.001]: 2325.73174092\n",
      "Evaluated at [-0.000,-0.002,0.000,0.000,0.000,0.000,0.000,0.000,0.001]: 2325.73174092\n",
      "Evaluated at [-0.000,-0.002,0.000,0.000,0.000,0.000,0.000,0.000,0.001]: 2325.73174092\n",
      "Evaluated at [0.000,-0.002,0.001,0.000,0.000,0.000,0.000,0.000,0.000]: 2324.83409197\n",
      "Evaluated at [0.000,-0.002,0.001,0.000,0.000,0.000,0.000,0.000,0.000]: 2324.83409197\n",
      "Evaluated at [0.000,-0.002,0.001,0.000,0.000,0.000,0.000,0.000,0.000]: 2324.83409197\n",
      "Evaluated at [-0.000,-0.003,0.001,0.000,0.001,0.001,0.001,-0.000,0.001]: 2323.96942525\n",
      "Evaluated at [-0.000,-0.003,0.001,0.000,0.001,0.001,0.001,-0.000,0.001]: 2323.96942525\n",
      "Evaluated at [-0.000,-0.003,0.001,0.000,0.001,0.001,0.001,-0.000,0.001]: 2323.96942525\n",
      "Evaluated at [-0.000,-0.004,0.002,0.000,0.001,0.000,0.000,-0.000,0.001]: 2322.84064668\n",
      "Evaluated at [-0.000,-0.004,0.002,0.000,0.001,0.000,0.000,-0.000,0.001]: 2322.84064668\n",
      "Evaluated at [-0.000,-0.004,0.002,0.000,0.001,0.000,0.000,-0.000,0.001]: 2322.84064668\n",
      "Evaluated at [-0.000,-0.005,0.002,0.000,0.001,0.000,0.001,-0.000,0.001]: 2320.75838786\n",
      "Evaluated at [-0.000,-0.005,0.002,0.000,0.001,0.000,0.001,-0.000,0.001]: 2320.75838786\n",
      "Evaluated at [-0.000,-0.005,0.002,0.000,0.001,0.000,0.001,-0.000,0.001]: 2320.75838786\n",
      "Evaluated at [-0.000,-0.005,0.002,0.000,0.001,0.000,0.001,-0.000,0.001]: 2320.75838786\n"
     ]
    }
   ],
   "source": [
    "# First try from (essentially) the origin using Nelder-Mead\n",
    "# The exact optimisation method to use is expected to depend a lot on the actual data\n",
    "\n",
    "fout = op.minimize(mynll,x0,method='Nelder-Mead',callback=callbackF,options={'maxiter' : 10000})\n",
    "xhat = fout.x\n",
    "fout"
   ]
  },
  {
   "cell_type": "code",
   "execution_count": 23,
   "metadata": {},
   "outputs": [
    {
     "data": {
      "application/vnd.jupyter.widget-view+json": {
       "model_id": "e6046d896d7e42e0956c6fcc7f484e55",
       "version_major": 2,
       "version_minor": 0
      },
      "text/plain": [
       "HBox(children=(FloatProgress(value=0.0, max=9.0), HTML(value='')))"
      ]
     },
     "metadata": {},
     "output_type": "display_data"
    },
    {
     "name": "stdout",
     "output_type": "stream",
     "text": [
      "\n"
     ]
    },
    {
     "name": "stderr",
     "output_type": "stream",
     "text": [
      "/Users/thomas/anaconda3/lib/python3.7/site-packages/ipykernel_launcher.py:18: RuntimeWarning: invalid value encountered in sqrt\n"
     ]
    },
    {
     "data": {
      "text/plain": [
       "array([           nan, 4.81873501e-02, 5.48573078e+05, 1.32659095e-01,\n",
       "       1.28701139e-01, 4.57830834e+06,            nan,            nan,\n",
       "                  nan])"
      ]
     },
     "execution_count": 23,
     "metadata": {},
     "output_type": "execute_result"
    }
   ],
   "source": [
    "pn = len(x0)\n",
    "delta = 1e-2 # This finite difference needs some unavoidable tuning by hand\n",
    "dx = delta*xhat\n",
    "ej = np.zeros(pn)\n",
    "ek = np.zeros(pn)\n",
    "Hinv = np.zeros((pn,pn))\n",
    "for j in tqdm(range(0,pn)):\n",
    "    ej[j] = dx[j]\n",
    "    for k in range(0,j):\n",
    "        ek[k] = dx[k]\n",
    "        Hinv[j,k] = mynll(xhat+ej+ek) - mynll(xhat+ej-ek) - mynll(xhat-ej+ek) + mynll(xhat-ej-ek)\n",
    "        ek[k] = 0.\n",
    "    Hinv[j,j] = - mynll(xhat+2*ej) + 16*mynll(xhat+ej) - 30*mynll(xhat) + 16*mynll(xhat-ej) - mynll(xhat-2*ej)\n",
    "    ej[j] = 0.\n",
    "Hinv += np.triu(Hinv.T,1)\n",
    "Hinv /= (4.*np.outer(dx,dx) + np.diag(8.*dx**2)) # TO DO: replace with a chol ...\n",
    "covmat = LA.inv(0.5*(Hinv+Hinv.T))\n",
    "stds = np.sqrt(np.diag(covmat))\n",
    "stds"
   ]
  },
  {
   "cell_type": "code",
   "execution_count": 24,
   "metadata": {},
   "outputs": [
    {
     "name": "stdout",
     "output_type": "stream",
     "text": [
      "Baseline probability of infection from outside is 26.2 (24.2,28.4) %\n"
     ]
    },
    {
     "name": "stderr",
     "output_type": "stream",
     "text": [
      "/Users/thomas/anaconda3/lib/python3.7/site-packages/ipykernel_launcher.py:14: RuntimeWarning: covariance is not symmetric positive-semidefinite.\n",
      "  \n",
      "/Users/thomas/anaconda3/lib/python3.7/site-packages/ipykernel_launcher.py:3: RuntimeWarning: invalid value encountered in double_scalars\n",
      "  This is separate from the ipykernel package so we can avoid doing imports until\n",
      "/Users/thomas/anaconda3/lib/python3.7/site-packages/ipykernel_launcher.py:3: RuntimeWarning: divide by zero encountered in double_scalars\n",
      "  This is separate from the ipykernel package so we can avoid doing imports until\n"
     ]
    },
    {
     "name": "stdout",
     "output_type": "stream",
     "text": [
      "Baseline SAR is 0.0 (nan,nan) %\n",
      "Relative external exposure for <=9yo 103.1 (79.5,133.8) %\n",
      "Relative external exposure for 10-18yo 120.0 (93.3,154.5) %\n",
      "Relative susceptibility for <=9yo 6473745680521278870101517409490556427432005355849479658811821610514461282919161647515900567355392.0 (0.0,inf) %\n",
      "Relative susceptibility for 10-18yo 0.0 (nan,nan) %\n",
      "Relative transmissibility for <=9yo 523799530438513999240421668946643127191119637512192.0 (nan,nan) %\n",
      "Relative transmissibility for 10-18yo 1155675035405068003189539162429240125574523855850082140160.0 (nan,nan) %\n"
     ]
    },
    {
     "name": "stderr",
     "output_type": "stream",
     "text": [
      "/Users/thomas/anaconda3/lib/python3.7/site-packages/numpy/lib/function_base.py:3826: RuntimeWarning: Invalid value encountered in percentile\n",
      "  interpolation=interpolation)\n"
     ]
    }
   ],
   "source": [
    "print('Baseline probability of infection from outside is {:.1f} ({:.1f},{:.1f}) %'.format(\n",
    "    100.*(1.-np.exp(-np.exp(xhat[1]))),\n",
    "    100.*(1.-np.exp(-np.exp(xhat[1]-1.96*stds[1]))),\n",
    "    100.*(1.-np.exp(-np.exp(xhat[1]+1.96*stds[1]))),\n",
    "    ))\n",
    "\n",
    "# phi gets bigger as xhat[1] gets smaller and bigger as xhat[2] gets bigger\n",
    "# 'Safest' method is Monte Carlo - sample \n",
    "mymu = xhat[[0,2]]\n",
    "mySig = covmat[[0,2],:][:,[0,2]]\n",
    "m = 4000\n",
    "sarvec = np.zeros(m)\n",
    "for i in range(0,m):\n",
    "    uu = np.random.multivariate_normal(mymu,mySig)\n",
    "    sarvec[i] = 100.*(1.-phi(np.exp(uu[0]),uu[1]))\n",
    "    \n",
    "print('Baseline SAR is {:.1f} ({:.1f},{:.1f}) %'.format(\n",
    "    100.*(1.-phi(np.exp(xhat[0]),xhat[2])),\n",
    "    np.percentile(sarvec,2.5),\n",
    "    np.percentile(sarvec,97.5),\n",
    "    ))\n",
    "\n",
    "print('Relative external exposure for <=9yo {:.1f} ({:.1f},{:.1f}) %'.format(\n",
    "    100.*np.exp(xhat[3]),\n",
    "    100.*np.exp(xhat[3]-1.96*stds[3]),\n",
    "    100.*np.exp(xhat[3]+1.96*stds[3]),\n",
    "    ))\n",
    "print('Relative external exposure for 10-18yo {:.1f} ({:.1f},{:.1f}) %'.format(\n",
    "    100.*np.exp(xhat[4]),\n",
    "    100.*np.exp(xhat[4]-1.96*stds[4]),\n",
    "    100.*np.exp(xhat[4]+1.96*stds[4]),\n",
    "    ))\n",
    "\n",
    "print('Relative susceptibility for <=9yo {:.1f} ({:.1f},{:.1f}) %'.format(\n",
    "    100.*np.exp(xhat[5]),\n",
    "    100.*np.exp(xhat[5]-1.96*stds[5]),\n",
    "    100.*np.exp(xhat[5]+1.96*stds[5]),\n",
    "    ))\n",
    "print('Relative susceptibility for 10-18yo {:.1f} ({:.1f},{:.1f}) %'.format(\n",
    "    100.*np.exp(xhat[6]),\n",
    "    100.*np.exp(xhat[6]-1.96*stds[6]),\n",
    "    100.*np.exp(xhat[6]+1.96*stds[6]),\n",
    "    ))\n",
    "\n",
    "print('Relative transmissibility for <=9yo {:.1f} ({:.1f},{:.1f}) %'.format(\n",
    "    100.*np.exp(xhat[7]),\n",
    "    100.*np.exp(xhat[7]-1.96*stds[7]),\n",
    "    100.*np.exp(xhat[7]+1.96*stds[7]),\n",
    "    ))\n",
    "print('Relative transmissibility for 10-18yo {:.1f} ({:.1f},{:.1f}) %'.format(\n",
    "    100.*np.exp(xhat[8]),\n",
    "    100.*np.exp(xhat[8]-1.96*stds[8]),\n",
    "    100.*np.exp(xhat[8]+1.96*stds[8]),\n",
    "    ))\n"
   ]
  },
  {
   "cell_type": "code",
   "execution_count": null,
   "metadata": {},
   "outputs": [],
   "source": []
  }
 ],
 "metadata": {
  "kernelspec": {
   "display_name": "Python 3",
   "language": "python",
   "name": "python3"
  },
  "language_info": {
   "codemirror_mode": {
    "name": "ipython",
    "version": 3
   },
   "file_extension": ".py",
   "mimetype": "text/x-python",
   "name": "python",
   "nbconvert_exporter": "python",
   "pygments_lexer": "ipython3",
   "version": "3.7.6"
  }
 },
 "nbformat": 4,
 "nbformat_minor": 2
}
