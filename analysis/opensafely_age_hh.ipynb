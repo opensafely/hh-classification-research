{
 "cells": [
  {
   "cell_type": "markdown",
   "metadata": {},
   "source": [
    "# Household analysis on OpenSAFELY data\n",
    "\n",
    "Python code for pulling in the full-sized data and running a household regression\n",
    "\n",
    "The expectation is that this may not converge, but it is intended to check the model pipeline\n"
   ]
  },
  {
   "cell_type": "code",
   "execution_count": 1,
   "metadata": {},
   "outputs": [],
   "source": [
    "%matplotlib inline\n",
    "import numpy as np\n",
    "import scipy.stats as st\n",
    "import scipy.optimize as op\n",
    "import pandas as pd\n",
    "from numpy import linalg as LA\n",
    "import matplotlib.pyplot as plt\n",
    "from tqdm.notebook import tqdm\n",
    "import seaborn as sns\n",
    "import logging"
   ]
  },
  {
   "cell_type": "code",
   "execution_count": 2,
   "metadata": {},
   "outputs": [],
   "source": [
    "logging.basicConfig(filename='./opensafely_age_hh.log', level=logging.INFO, format='%(asctime)s %(message)s')\n",
    "logging.info('Libraries imported and logging started')"
   ]
  },
  {
   "cell_type": "markdown",
   "metadata": {},
   "source": [
    "# CHANGE THE NEXT CELL\n",
    "\n",
    "The next set of cell is the one that would need changing for a different data source in the same format\n"
   ]
  },
  {
   "cell_type": "code",
   "execution_count": 3,
   "metadata": {},
   "outputs": [],
   "source": [
    "df = pd.read_stata('../hh_analysis_datasetALLVARS.dta', columns=[\"hh_id\", \"age\", \"case\"])"
   ]
  },
  {
   "cell_type": "code",
   "execution_count": 4,
   "metadata": {},
   "outputs": [],
   "source": [
    "logging.info('Data Read In')"
   ]
  },
  {
   "cell_type": "markdown",
   "metadata": {},
   "source": [
    "# Data pre-processing\n",
    "\n",
    "There are two major outputs for each household: a vector y of outcomes and a design matrix X. These are stored in arrays of length equal to the number of households Y and XX respectively.\n"
   ]
  },
  {
   "cell_type": "code",
   "execution_count": 7,
   "metadata": {},
   "outputs": [],
   "source": [
    "# This is the number of age classes; here we will follow Roz's interests and consider two young ages\n",
    "\n",
    "nages = 2\n",
    "hhnums = pd.unique(df.hh_id)"
   ]
  },
  {
   "cell_type": "code",
   "execution_count": null,
   "metadata": {},
   "outputs": [],
   "source": [
    "# Take a small random sample of households (using a seed for reproducibility) so we can check everything runs\n",
    "import random\n",
    "hhnums = random.Random(\"seed_a4Feji\").sample(hhnums.tolist(), min(len(hhnums), 10000))\n",
    "# 10000 hh's: 1 optimisation run=3 minutes\n",
    "# 100000 hh's: 1 optimisation run=25 minutes\n",
    "# 500000 hh's: 1 optimisation run=2 hours\n",
    "# changed to age categories 100000 hh's: 1 optimisation run=??\n",
    "\n",
    "# Setting this to 1 as suggested by Roz so we can check how long it takes\n",
    "optimize_maxiter = 10 #  Previous value was 1000"
   ]
  },
  {
   "cell_type": "code",
   "execution_count": 9,
   "metadata": {},
   "outputs": [],
   "source": [
    "Y = [] # To store outcomes\n",
    "XX = [] # To store design matrices\n",
    "for i, num in enumerate(hhnums):\n",
    "    dfh = df[df.hh_id == num]    \n",
    "    \n",
    "    mya = dfh.age.values\n",
    "    m = len(mya)\n",
    "    myx = np.zeros((m,nages))\n",
    "    myy = np.zeros(m)\n",
    "    for j, a in enumerate(mya):\n",
    "        if (a<=9):\n",
    "            myx[j,:] = np.array([1, 0])\n",
    "        elif ((a>9) and (a<=18)):\n",
    "            myx[j,:] = np.array([0, 1])\n",
    "        if (dfh.case.values[j] == 1):\n",
    "            myy[j] = 1\n",
    "    Y.append(myy)\n",
    "    XX.append(np.atleast_2d(myx))"
   ]
  },
  {
   "cell_type": "code",
   "execution_count": 10,
   "metadata": {},
   "outputs": [],
   "source": [
    "logging.info('Data pre-processing completed')"
   ]
  },
  {
   "cell_type": "markdown",
   "metadata": {},
   "source": [
    "# Define functions\n",
    "\n",
    "We need two functions:\n",
    "\n",
    "* phi is the Laplace transform of the distribution of heterogeneity in transmissibility\n",
    "* mynll is the negative log likelihood function for the model\n",
    "\n",
    "Note that mynll here does not include a 'dilution' effect with number of household occupants (often called the 'Cauchemez model') and there are many other refinements we might like to consider.\n"
   ]
  },
  {
   "cell_type": "code",
   "execution_count": 11,
   "metadata": {},
   "outputs": [],
   "source": [
    "def phi(s, logtheta=0.0):\n",
    "    theta = np.exp(logtheta)\n",
    "    return ((1.0 + theta*s)**(-1.0/theta))"
   ]
  },
  {
   "cell_type": "code",
   "execution_count": 12,
   "metadata": {},
   "outputs": [],
   "source": [
    "def mynll(x):\n",
    "    \n",
    "    try: # Ideally catch the linear algebra fail directly\n",
    "        llaL = x[0]\n",
    "        llaG = x[1]\n",
    "        logtheta = x[2]\n",
    "        alpha = x[3:(3+nages)]\n",
    "        beta = x[(3+nages):(3+2*nages)]\n",
    "        gamma = x[(3+2*nages):]\n",
    "\n",
    "        nlv = np.zeros(len(hhnums)) # Vector of negative log likelihoods\n",
    "        for i in range(0,len(hhnums)):\n",
    "            y = Y[i]\n",
    "            X = XX[i]\n",
    "            if np.all(y==0.0):\n",
    "                nlv[i] = np.exp(llaG)*np.sum(np.exp(alpha@(X.T)))\n",
    "            else:\n",
    "                # Sort to go zeros then ones WLOG (could do in pre-processing)\n",
    "                ii = np.argsort(y)\n",
    "                y = y[ii]\n",
    "                X = X[ii,:]\n",
    "                q = sum(y>0)\n",
    "                r = 2**q\n",
    "                m = len(y)\n",
    "\n",
    "                # Quantities that don't vary through the sum\n",
    "                Bk = np.exp(-np.exp(llaG)*np.exp(alpha@(X.T)))\n",
    "                laM = np.exp(llaL)*np.outer(np.exp(beta@(X.T)),np.exp(gamma@(X.T)))\n",
    "\n",
    "                BB = np.zeros((r,r)) # To be the Ball matrix\n",
    "                for jd in range(0,r):\n",
    "                    for omd in range(0,jd+1):\n",
    "                        jstr = format(jd,'0' + str(m) + 'b')\n",
    "                        omstr = format(omd,'0' + str(m) + 'b')\n",
    "                        j = np.array([int(jstr[x]) for x in range(0,len(jstr))])\n",
    "                        om = np.array([int(omstr[x]) for x in range(0,len(omstr))])\n",
    "                        if np.all(om<=j):\n",
    "                            BB[jd,omd] = 1.0/np.prod((phi((1-j)@laM,logtheta)**om)*(Bk**(1-j)))\n",
    "                nlv[i] = -np.log(LA.solve(BB,np.ones(r))[-1])\n",
    "        nll = np.sum(nlv)\n",
    "        \n",
    "        nll += 7.4*np.sum(x**2) # Comment out this Ridge if not needed\n",
    "        \n",
    "        return nll\n",
    "    except:\n",
    "        nll = np.inf\n",
    "        return nll"
   ]
  },
  {
   "cell_type": "code",
   "execution_count": 13,
   "metadata": {},
   "outputs": [],
   "source": [
    "logging.info('Helper functions defined')"
   ]
  },
  {
   "cell_type": "markdown",
   "metadata": {},
   "source": [
    "# Fit the model\n",
    "\n",
    "The code here uses the simplest kind of maximum likelihood estimation that one might try - it is likely that there may need to be some tuning of this process to the data and computational resources available, and also that in the current context it will fail because almost by definition the model is mis-specified compared to the data.\n"
   ]
  },
  {
   "cell_type": "code",
   "execution_count": 21,
   "metadata": {},
   "outputs": [
    {
     "data": {
      "text/plain": [
       "inf"
      ]
     },
     "execution_count": 21,
     "metadata": {},
     "output_type": "execute_result"
    }
   ],
   "source": [
    "# Starting parameters - and check that the target function evaluates OK at them\n",
    "\n",
    "x0 = np.array([\n",
    "    -2.0,\n",
    "    -2.0,\n",
    "    0.0,\n",
    "    0.0, 0.0,\n",
    "    0.0, 0.0,\n",
    "    0.0, 0.0,\n",
    "])\n",
    "mynll(x0)"
   ]
  },
  {
   "cell_type": "code",
   "execution_count": 22,
   "metadata": {},
   "outputs": [],
   "source": [
    "logging.info('Objective function evaluated at one value')"
   ]
  },
  {
   "cell_type": "code",
   "execution_count": 23,
   "metadata": {},
   "outputs": [],
   "source": [
    "def callbackF(x):\n",
    "    logging.info('Optimizer callback')\n",
    "    print('Evaluated at [{:.3f},{:.3f},{:.3f},{:.3f},{:.3f},{:.3f},{:.3f},{:.3f},{:.3f}]: {:.8f}'.format(\n",
    "        x[0],x[1],x[2],x[3],x[4],x[5],x[6],x[7],x[8],mynll(x)))"
   ]
  },
  {
   "cell_type": "code",
   "execution_count": 24,
   "metadata": {},
   "outputs": [],
   "source": [
    "bb = np.array([\n",
    "    [-5.,0.],\n",
    "    [-5.,0.],\n",
    "    [-10.,10.],\n",
    "    [-3.,3.],[-3.,3.],\n",
    "    [-3.,3.],[-3.,3.],\n",
    "    [-3.,3.],[-3.,3.],\n",
    "])"
   ]
  },
  {
   "cell_type": "code",
   "execution_count": 25,
   "metadata": {},
   "outputs": [
    {
     "ename": "KeyboardInterrupt",
     "evalue": "",
     "output_type": "error",
     "traceback": [
      "\u001b[0;31m---------------------------------------------------------------------------\u001b[0m",
      "\u001b[0;31mKeyboardInterrupt\u001b[0m                         Traceback (most recent call last)",
      "\u001b[0;32m<ipython-input-25-9ff2279f3155>\u001b[0m in \u001b[0;36m<module>\u001b[0;34m\u001b[0m\n\u001b[1;32m      3\u001b[0m fout = op.minimize(mynll,x0,\n\u001b[1;32m      4\u001b[0m                            \u001b[0mbounds\u001b[0m\u001b[0;34m=\u001b[0m\u001b[0mbb\u001b[0m\u001b[0;34m,\u001b[0m\u001b[0mmethod\u001b[0m\u001b[0;34m=\u001b[0m\u001b[0;34m'TNC'\u001b[0m\u001b[0;34m,\u001b[0m\u001b[0mcallback\u001b[0m\u001b[0;34m=\u001b[0m\u001b[0mcallbackF\u001b[0m\u001b[0;34m,\u001b[0m\u001b[0;34m\u001b[0m\u001b[0;34m\u001b[0m\u001b[0m\n\u001b[0;32m----> 5\u001b[0;31m                            options={'maxiter' : 1000, 'ftol' : 1e-4})\n\u001b[0m\u001b[1;32m      6\u001b[0m \u001b[0mxhat\u001b[0m \u001b[0;34m=\u001b[0m \u001b[0mfout\u001b[0m\u001b[0;34m.\u001b[0m\u001b[0mx\u001b[0m\u001b[0;34m\u001b[0m\u001b[0;34m\u001b[0m\u001b[0m\n\u001b[1;32m      7\u001b[0m \u001b[0mfout\u001b[0m\u001b[0;34m\u001b[0m\u001b[0;34m\u001b[0m\u001b[0m\n",
      "\u001b[0;32m~/anaconda3/lib/python3.7/site-packages/scipy/optimize/_minimize.py\u001b[0m in \u001b[0;36mminimize\u001b[0;34m(fun, x0, args, method, jac, hess, hessp, bounds, constraints, tol, callback, options)\u001b[0m\n\u001b[1;32m    601\u001b[0m     \u001b[0;32melif\u001b[0m \u001b[0mmeth\u001b[0m \u001b[0;34m==\u001b[0m \u001b[0;34m'tnc'\u001b[0m\u001b[0;34m:\u001b[0m\u001b[0;34m\u001b[0m\u001b[0;34m\u001b[0m\u001b[0m\n\u001b[1;32m    602\u001b[0m         return _minimize_tnc(fun, x0, args, jac, bounds, callback=callback,\n\u001b[0;32m--> 603\u001b[0;31m                              **options)\n\u001b[0m\u001b[1;32m    604\u001b[0m     \u001b[0;32melif\u001b[0m \u001b[0mmeth\u001b[0m \u001b[0;34m==\u001b[0m \u001b[0;34m'cobyla'\u001b[0m\u001b[0;34m:\u001b[0m\u001b[0;34m\u001b[0m\u001b[0;34m\u001b[0m\u001b[0m\n\u001b[1;32m    605\u001b[0m         \u001b[0;32mreturn\u001b[0m \u001b[0m_minimize_cobyla\u001b[0m\u001b[0;34m(\u001b[0m\u001b[0mfun\u001b[0m\u001b[0;34m,\u001b[0m \u001b[0mx0\u001b[0m\u001b[0;34m,\u001b[0m \u001b[0margs\u001b[0m\u001b[0;34m,\u001b[0m \u001b[0mconstraints\u001b[0m\u001b[0;34m,\u001b[0m \u001b[0;34m**\u001b[0m\u001b[0moptions\u001b[0m\u001b[0;34m)\u001b[0m\u001b[0;34m\u001b[0m\u001b[0;34m\u001b[0m\u001b[0m\n",
      "\u001b[0;32m~/anaconda3/lib/python3.7/site-packages/scipy/optimize/tnc.py\u001b[0m in \u001b[0;36m_minimize_tnc\u001b[0;34m(fun, x0, args, jac, bounds, eps, scale, offset, mesg_num, maxCGit, maxiter, eta, stepmx, accuracy, minfev, ftol, xtol, gtol, rescale, disp, callback, **unknown_options)\u001b[0m\n\u001b[1;32m    407\u001b[0m                                         \u001b[0moffset\u001b[0m\u001b[0;34m,\u001b[0m \u001b[0mmessages\u001b[0m\u001b[0;34m,\u001b[0m \u001b[0mmaxCGit\u001b[0m\u001b[0;34m,\u001b[0m \u001b[0mmaxfun\u001b[0m\u001b[0;34m,\u001b[0m\u001b[0;34m\u001b[0m\u001b[0;34m\u001b[0m\u001b[0m\n\u001b[1;32m    408\u001b[0m                                         \u001b[0meta\u001b[0m\u001b[0;34m,\u001b[0m \u001b[0mstepmx\u001b[0m\u001b[0;34m,\u001b[0m \u001b[0maccuracy\u001b[0m\u001b[0;34m,\u001b[0m \u001b[0mfmin\u001b[0m\u001b[0;34m,\u001b[0m \u001b[0mftol\u001b[0m\u001b[0;34m,\u001b[0m\u001b[0;34m\u001b[0m\u001b[0;34m\u001b[0m\u001b[0m\n\u001b[0;32m--> 409\u001b[0;31m                                         xtol, pgtol, rescale, callback)\n\u001b[0m\u001b[1;32m    410\u001b[0m \u001b[0;34m\u001b[0m\u001b[0m\n\u001b[1;32m    411\u001b[0m     \u001b[0mfunv\u001b[0m\u001b[0;34m,\u001b[0m \u001b[0mjacv\u001b[0m \u001b[0;34m=\u001b[0m \u001b[0mfunc_and_grad\u001b[0m\u001b[0;34m(\u001b[0m\u001b[0mx\u001b[0m\u001b[0;34m)\u001b[0m\u001b[0;34m\u001b[0m\u001b[0;34m\u001b[0m\u001b[0m\n",
      "\u001b[0;32m~/anaconda3/lib/python3.7/site-packages/scipy/optimize/tnc.py\u001b[0m in \u001b[0;36mfunc_and_grad\u001b[0;34m(x)\u001b[0m\n\u001b[1;32m    365\u001b[0m         \u001b[0;32mdef\u001b[0m \u001b[0mfunc_and_grad\u001b[0m\u001b[0;34m(\u001b[0m\u001b[0mx\u001b[0m\u001b[0;34m)\u001b[0m\u001b[0;34m:\u001b[0m\u001b[0;34m\u001b[0m\u001b[0;34m\u001b[0m\u001b[0m\n\u001b[1;32m    366\u001b[0m             \u001b[0mf\u001b[0m \u001b[0;34m=\u001b[0m \u001b[0mfun\u001b[0m\u001b[0;34m(\u001b[0m\u001b[0mx\u001b[0m\u001b[0;34m,\u001b[0m \u001b[0;34m*\u001b[0m\u001b[0margs\u001b[0m\u001b[0;34m)\u001b[0m\u001b[0;34m\u001b[0m\u001b[0;34m\u001b[0m\u001b[0m\n\u001b[0;32m--> 367\u001b[0;31m             \u001b[0mg\u001b[0m \u001b[0;34m=\u001b[0m \u001b[0mapprox_fprime\u001b[0m\u001b[0;34m(\u001b[0m\u001b[0mx\u001b[0m\u001b[0;34m,\u001b[0m \u001b[0mfun\u001b[0m\u001b[0;34m,\u001b[0m \u001b[0mepsilon\u001b[0m\u001b[0;34m,\u001b[0m \u001b[0;34m*\u001b[0m\u001b[0margs\u001b[0m\u001b[0;34m)\u001b[0m\u001b[0;34m\u001b[0m\u001b[0;34m\u001b[0m\u001b[0m\n\u001b[0m\u001b[1;32m    368\u001b[0m             \u001b[0;32mreturn\u001b[0m \u001b[0mf\u001b[0m\u001b[0;34m,\u001b[0m \u001b[0mg\u001b[0m\u001b[0;34m\u001b[0m\u001b[0;34m\u001b[0m\u001b[0m\n\u001b[1;32m    369\u001b[0m     \u001b[0;32melse\u001b[0m\u001b[0;34m:\u001b[0m\u001b[0;34m\u001b[0m\u001b[0;34m\u001b[0m\u001b[0m\n",
      "\u001b[0;32m~/anaconda3/lib/python3.7/site-packages/scipy/optimize/optimize.py\u001b[0m in \u001b[0;36mapprox_fprime\u001b[0;34m(xk, f, epsilon, *args)\u001b[0m\n\u001b[1;32m    754\u001b[0m \u001b[0;34m\u001b[0m\u001b[0m\n\u001b[1;32m    755\u001b[0m     \"\"\"\n\u001b[0;32m--> 756\u001b[0;31m     \u001b[0;32mreturn\u001b[0m \u001b[0m_approx_fprime_helper\u001b[0m\u001b[0;34m(\u001b[0m\u001b[0mxk\u001b[0m\u001b[0;34m,\u001b[0m \u001b[0mf\u001b[0m\u001b[0;34m,\u001b[0m \u001b[0mepsilon\u001b[0m\u001b[0;34m,\u001b[0m \u001b[0margs\u001b[0m\u001b[0;34m=\u001b[0m\u001b[0margs\u001b[0m\u001b[0;34m)\u001b[0m\u001b[0;34m\u001b[0m\u001b[0;34m\u001b[0m\u001b[0m\n\u001b[0m\u001b[1;32m    757\u001b[0m \u001b[0;34m\u001b[0m\u001b[0m\n\u001b[1;32m    758\u001b[0m \u001b[0;34m\u001b[0m\u001b[0m\n",
      "\u001b[0;32m~/anaconda3/lib/python3.7/site-packages/scipy/optimize/optimize.py\u001b[0m in \u001b[0;36m_approx_fprime_helper\u001b[0;34m(xk, f, epsilon, args, f0)\u001b[0m\n\u001b[1;32m    688\u001b[0m     \"\"\"\n\u001b[1;32m    689\u001b[0m     \u001b[0;32mif\u001b[0m \u001b[0mf0\u001b[0m \u001b[0;32mis\u001b[0m \u001b[0;32mNone\u001b[0m\u001b[0;34m:\u001b[0m\u001b[0;34m\u001b[0m\u001b[0;34m\u001b[0m\u001b[0m\n\u001b[0;32m--> 690\u001b[0;31m         \u001b[0mf0\u001b[0m \u001b[0;34m=\u001b[0m \u001b[0mf\u001b[0m\u001b[0;34m(\u001b[0m\u001b[0;34m*\u001b[0m\u001b[0;34m(\u001b[0m\u001b[0;34m(\u001b[0m\u001b[0mxk\u001b[0m\u001b[0;34m,\u001b[0m\u001b[0;34m)\u001b[0m \u001b[0;34m+\u001b[0m \u001b[0margs\u001b[0m\u001b[0;34m)\u001b[0m\u001b[0;34m)\u001b[0m\u001b[0;34m\u001b[0m\u001b[0;34m\u001b[0m\u001b[0m\n\u001b[0m\u001b[1;32m    691\u001b[0m     \u001b[0mgrad\u001b[0m \u001b[0;34m=\u001b[0m \u001b[0mnumpy\u001b[0m\u001b[0;34m.\u001b[0m\u001b[0mzeros\u001b[0m\u001b[0;34m(\u001b[0m\u001b[0;34m(\u001b[0m\u001b[0mlen\u001b[0m\u001b[0;34m(\u001b[0m\u001b[0mxk\u001b[0m\u001b[0;34m)\u001b[0m\u001b[0;34m,\u001b[0m\u001b[0;34m)\u001b[0m\u001b[0;34m,\u001b[0m \u001b[0mfloat\u001b[0m\u001b[0;34m)\u001b[0m\u001b[0;34m\u001b[0m\u001b[0;34m\u001b[0m\u001b[0m\n\u001b[1;32m    692\u001b[0m     \u001b[0mei\u001b[0m \u001b[0;34m=\u001b[0m \u001b[0mnumpy\u001b[0m\u001b[0;34m.\u001b[0m\u001b[0mzeros\u001b[0m\u001b[0;34m(\u001b[0m\u001b[0;34m(\u001b[0m\u001b[0mlen\u001b[0m\u001b[0;34m(\u001b[0m\u001b[0mxk\u001b[0m\u001b[0;34m)\u001b[0m\u001b[0;34m,\u001b[0m\u001b[0;34m)\u001b[0m\u001b[0;34m,\u001b[0m \u001b[0mfloat\u001b[0m\u001b[0;34m)\u001b[0m\u001b[0;34m\u001b[0m\u001b[0;34m\u001b[0m\u001b[0m\n",
      "\u001b[0;31mKeyboardInterrupt\u001b[0m: "
     ]
    }
   ],
   "source": [
    "# First try from (essentially) the origin using Nelder-Mead\n",
    "# The exact optimisation method to use is expected to depend a lot on the actual data\n",
    "fout = op.minimize(mynll,x0,\n",
    "                           bounds=bb,method='TNC',callback=callbackF,\n",
    "                           options={'maxiter' : optimize_maxiter, 'ftol' : 1e-4})\n",
    "xhat = fout.x\n",
    "fout"
   ]
  },
  {
   "cell_type": "code",
   "execution_count": null,
   "metadata": {},
   "outputs": [],
   "source": [
    "pn = len(x0)\n",
    "delta = 1e-2 # This finite difference needs some unavoidable tuning by hand\n",
    "dx = delta*xhat\n",
    "ej = np.zeros(pn)\n",
    "ek = np.zeros(pn)\n",
    "Hinv = np.zeros((pn,pn))\n",
    "for j in tqdm(range(0,pn)):\n",
    "    ej[j] = dx[j]\n",
    "    for k in range(0,j):\n",
    "        ek[k] = dx[k]\n",
    "        Hinv[j,k] = mynll(xhat+ej+ek) - mynll(xhat+ej-ek) - mynll(xhat-ej+ek) + mynll(xhat-ej-ek)\n",
    "        ek[k] = 0.\n",
    "    Hinv[j,j] = - mynll(xhat+2*ej) + 16*mynll(xhat+ej) - 30*mynll(xhat) + 16*mynll(xhat-ej) - mynll(xhat-2*ej)\n",
    "    ej[j] = 0.\n",
    "Hinv += np.triu(Hinv.T,1)\n",
    "Hinv /= (4.*np.outer(dx,dx) + np.diag(8.*dx**2)) # TO DO: replace with a chol ...\n",
    "covmat = LA.inv(0.5*(Hinv+Hinv.T))\n",
    "stds = np.sqrt(np.diag(covmat))\n",
    "stds"
   ]
  },
  {
   "cell_type": "code",
   "execution_count": null,
   "metadata": {},
   "outputs": [],
   "source": [
    "logging.info('One optimisation run')"
   ]
  },
  {
   "cell_type": "code",
   "execution_count": 24,
   "metadata": {},
   "outputs": [
    {
     "name": "stdout",
     "output_type": "stream",
     "text": [
      "Baseline probability of infection from outside is 26.2 (24.2,28.4) %\n"
     ]
    },
    {
     "name": "stderr",
     "output_type": "stream",
     "text": [
      "/Users/thomas/anaconda3/lib/python3.7/site-packages/ipykernel_launcher.py:14: RuntimeWarning: covariance is not symmetric positive-semidefinite.\n",
      "  \n",
      "/Users/thomas/anaconda3/lib/python3.7/site-packages/ipykernel_launcher.py:3: RuntimeWarning: invalid value encountered in double_scalars\n",
      "  This is separate from the ipykernel package so we can avoid doing imports until\n",
      "/Users/thomas/anaconda3/lib/python3.7/site-packages/ipykernel_launcher.py:3: RuntimeWarning: divide by zero encountered in double_scalars\n",
      "  This is separate from the ipykernel package so we can avoid doing imports until\n"
     ]
    },
    {
     "name": "stdout",
     "output_type": "stream",
     "text": [
      "Baseline SAR is 0.0 (nan,nan) %\n",
      "Relative external exposure for <=9yo 103.1 (79.5,133.8) %\n",
      "Relative external exposure for 10-18yo 120.0 (93.3,154.5) %\n",
      "Relative susceptibility for <=9yo 6473745680521278870101517409490556427432005355849479658811821610514461282919161647515900567355392.0 (0.0,inf) %\n",
      "Relative susceptibility for 10-18yo 0.0 (nan,nan) %\n",
      "Relative transmissibility for <=9yo 523799530438513999240421668946643127191119637512192.0 (nan,nan) %\n",
      "Relative transmissibility for 10-18yo 1155675035405068003189539162429240125574523855850082140160.0 (nan,nan) %\n"
     ]
    },
    {
     "name": "stderr",
     "output_type": "stream",
     "text": [
      "/Users/thomas/anaconda3/lib/python3.7/site-packages/numpy/lib/function_base.py:3826: RuntimeWarning: Invalid value encountered in percentile\n",
      "  interpolation=interpolation)\n"
     ]
    }
   ],
   "source": [
    "print('Baseline probability of infection from outside is {:.1f} ({:.1f},{:.1f}) %'.format(\n",
    "    100.*(1.-np.exp(-np.exp(xhat[1]))),\n",
    "    100.*(1.-np.exp(-np.exp(xhat[1]-1.96*stds[1]))),\n",
    "    100.*(1.-np.exp(-np.exp(xhat[1]+1.96*stds[1]))),\n",
    "    ))\n",
    "\n",
    "mymu = xhat[[0,2]]\n",
    "mySig = covmat[[0,2],:][:,[0,2]]\n",
    "m = 4000\n",
    "sarvec = np.zeros(m)\n",
    "try:\n",
    "    for i in range(0,m):\n",
    "        uu = np.random.multivariate_normal(mymu,mySig)\n",
    "        sarvec[i] = 100.*(1.-phi(np.exp(uu[0]),uu[1]))\n",
    "except ValueError as e:\n",
    "    if str(e) == \"array must not contain infs or NaNs\":\n",
    "        print(\"Unable to compute baseline SAR, got: {!r}\".format(e))\n",
    "    else:\n",
    "        raise\n",
    "else:\n",
    "    print('Baseline SAR is {:.1f} ({:.1f},{:.1f}) %'.format(\n",
    "        100.*(1.-phi(np.exp(xhat[0]),xhat[2])),\n",
    "        np.percentile(sarvec,2.5),\n",
    "        np.percentile(sarvec,97.5),\n",
    "        ))\n",
    "\n",
    "print('Relative external exposure for <=9yo {:.1f} ({:.1f},{:.1f}) %'.format(\n",
    "    100.*np.exp(xhat[3]),\n",
    "    100.*np.exp(xhat[3]-1.96*stds[3]),\n",
    "    100.*np.exp(xhat[3]+1.96*stds[3]),\n",
    "    ))\n",
    "print('Relative external exposure for 10-18yo {:.1f} ({:.1f},{:.1f}) %'.format(\n",
    "    100.*np.exp(xhat[4]),\n",
    "    100.*np.exp(xhat[4]-1.96*stds[4]),\n",
    "    100.*np.exp(xhat[4]+1.96*stds[4]),\n",
    "    ))\n",
    "\n",
    "print('Relative susceptibility for <=9yo {:.1f} ({:.1f},{:.1f}) %'.format(\n",
    "    100.*np.exp(xhat[5]),\n",
    "    100.*np.exp(xhat[5]-1.96*stds[5]),\n",
    "    100.*np.exp(xhat[5]+1.96*stds[5]),\n",
    "    ))\n",
    "print('Relative susceptibility for 10-18yo {:.1f} ({:.1f},{:.1f}) %'.format(\n",
    "    100.*np.exp(xhat[6]),\n",
    "    100.*np.exp(xhat[6]-1.96*stds[6]),\n",
    "    100.*np.exp(xhat[6]+1.96*stds[6]),\n",
    "    ))\n",
    "\n",
    "print('Relative transmissibility for <=9yo {:.1f} ({:.1f},{:.1f}) %'.format(\n",
    "    100.*np.exp(xhat[7]),\n",
    "    100.*np.exp(xhat[7]-1.96*stds[7]),\n",
    "    100.*np.exp(xhat[7]+1.96*stds[7]),\n",
    "    ))\n",
    "print('Relative transmissibility for 10-18yo {:.1f} ({:.1f},{:.1f}) %'.format(\n",
    "    100.*np.exp(xhat[8]),\n",
    "    100.*np.exp(xhat[8]-1.96*stds[8]),\n",
    "    100.*np.exp(xhat[8]+1.96*stds[8]),\n",
    "    ))\n"
   ]
  },
  {
   "cell_type": "code",
   "execution_count": null,
   "metadata": {},
   "outputs": [],
   "source": [
    "logging.info('Final notebook cell evaluated')"
   ]
  }
 ],
 "metadata": {
  "kernelspec": {
   "display_name": "Python 3",
   "language": "python",
   "name": "python3"
  },
  "language_info": {
   "codemirror_mode": {
    "name": "ipython",
    "version": 3
   },
   "file_extension": ".py",
   "mimetype": "text/x-python",
   "name": "python",
   "nbconvert_exporter": "python",
   "pygments_lexer": "ipython3",
   "version": "3.7.3"
  }
 },
 "nbformat": 4,
 "nbformat_minor": 2
}
